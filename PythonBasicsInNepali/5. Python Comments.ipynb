{
 "cells": [
  {
   "cell_type": "code",
   "execution_count": 1,
   "metadata": {},
   "outputs": [],
   "source": [
    "# This is a single line comment\n",
    "# The single line comment is followed by hash '#' sign\n",
    "# Each single line comments require one seperate hash at the starting\n",
    "# It can be used even at the end of a statement\n",
    "a = 10 # Declaring a variable a"
   ]
  },
  {
   "cell_type": "code",
   "execution_count": 9,
   "metadata": {},
   "outputs": [],
   "source": [
    "'''This is a multi line comment \n",
    "A multi line comment can contain 1 or more lines \n",
    "Multi line comments should be enclosed inside triple quotes\n",
    "The quotes can either be single quotes(') or double quotes(\")'''"
   ]
  },
  {
   "cell_type": "code",
   "execution_count": 7,
   "metadata": {},
   "outputs": [
    {
     "data": {
      "text/plain": [
       "'Multiline comments are also similar to single line comment\\nThey provide no meaning to the program\\nBut might be useful for developer\\nComments let you add extra piece of information to your code\\n'"
      ]
     },
     "execution_count": 7,
     "metadata": {},
     "output_type": "execute_result"
    }
   ],
   "source": [
    "\"\"\"Multiline comments are also similar to single line comment\n",
    "They provide no meaning to the program\n",
    "But might be useful for developer\n",
    "Comments let you add extra piece of information to your code\n",
    "\"\"\""
   ]
  },
  {
   "cell_type": "code",
   "execution_count": null,
   "metadata": {},
   "outputs": [],
   "source": []
  }
 ],
 "metadata": {
  "kernelspec": {
   "display_name": "Python 3",
   "language": "python",
   "name": "python3"
  },
  "language_info": {
   "codemirror_mode": {
    "name": "ipython",
    "version": 3
   },
   "file_extension": ".py",
   "mimetype": "text/x-python",
   "name": "python",
   "nbconvert_exporter": "python",
   "pygments_lexer": "ipython3",
   "version": "3.7.5"
  }
 },
 "nbformat": 4,
 "nbformat_minor": 4
}
