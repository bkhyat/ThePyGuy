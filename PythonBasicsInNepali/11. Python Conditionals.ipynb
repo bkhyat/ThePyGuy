{
 "cells": [
  {
   "cell_type": "code",
   "execution_count": null,
   "metadata": {},
   "outputs": [],
   "source": [
    "freind_comes = bool\n",
    "Go_to_movie = bool"
   ]
  },
  {
   "cell_type": "code",
   "execution_count": null,
   "metadata": {},
   "outputs": [],
   "source": [
    "if freind_comes==True:\n",
    "    Go_to_movie = True\n",
    "else:\n",
    "    Go_to_movie = False\n",
    "        "
   ]
  },
  {
   "cell_type": "code",
   "execution_count": 2,
   "metadata": {
    "scrolled": true
   },
   "outputs": [
    {
     "name": "stdout",
     "output_type": "stream",
     "text": [
      "Please Enter Your Score: 39.75\n",
      "Better Luck Next Time!!\n"
     ]
    }
   ],
   "source": [
    "score = float(input(\"Please Enter Your Score: \"))\n",
    "if score>40:\n",
    "    print(\"Congratulations! You passed\")\n",
    "else:\n",
    "    print(\"Better Luck Next Time!!\")"
   ]
  },
  {
   "cell_type": "code",
   "execution_count": 5,
   "metadata": {},
   "outputs": [
    {
     "name": "stdout",
     "output_type": "stream",
     "text": [
      "Please Enter Your Score: 35\n",
      "Failed\n"
     ]
    }
   ],
   "source": [
    "score = float(input(\"Please Enter Your Score: \"))\n",
    "if score>90:\n",
    "    print(\"Excellent\")\n",
    "elif score>70 and score<=90:\n",
    "    print(\"Good\")\n",
    "elif score>50 and score <=70:\n",
    "    print(\"Poor\")\n",
    "else:\n",
    "    print(\"Failed\")"
   ]
  },
  {
   "cell_type": "code",
   "execution_count": null,
   "metadata": {},
   "outputs": [],
   "source": [
    "if sore_throat is True:\n",
    "    if high_fever is True:\n",
    "        if loss_of_smell is True:\n",
    "            if running_nose is True:\n",
    "                if dry_cough is True:\n",
    "                    print(\"You might have caught Covid19\")"
   ]
  },
  {
   "cell_type": "code",
   "execution_count": 12,
   "metadata": {},
   "outputs": [],
   "source": [
    "allow_marriage = True if age>20 else False"
   ]
  },
  {
   "cell_type": "code",
   "execution_count": null,
   "metadata": {},
   "outputs": [],
   "source": [
    "if age>20:\n",
    "    allow_marriage = True\n",
    "else:\n",
    "    allow_marriage = False"
   ]
  },
  {
   "cell_type": "code",
   "execution_count": null,
   "metadata": {},
   "outputs": [],
   "source": [
    "X = y+1 if y%2==0 else y\n",
    "x = 20 if country='USA' else 18"
   ]
  },
  {
   "cell_type": "code",
   "execution_count": 1,
   "metadata": {},
   "outputs": [],
   "source": [
    "var_1 = 10.0"
   ]
  },
  {
   "cell_type": "code",
   "execution_count": 2,
   "metadata": {},
   "outputs": [],
   "source": [
    "var_2 = \"ThePyGuy\""
   ]
  },
  {
   "cell_type": "code",
   "execution_count": null,
   "metadata": {},
   "outputs": [],
   "source": []
  }
 ],
 "metadata": {
  "kernelspec": {
   "display_name": "Python 3",
   "language": "python",
   "name": "python3"
  },
  "language_info": {
   "codemirror_mode": {
    "name": "ipython",
    "version": 3
   },
   "file_extension": ".py",
   "mimetype": "text/x-python",
   "name": "python",
   "nbconvert_exporter": "python",
   "pygments_lexer": "ipython3",
   "version": "3.7.5"
  }
 },
 "nbformat": 4,
 "nbformat_minor": 4
}
