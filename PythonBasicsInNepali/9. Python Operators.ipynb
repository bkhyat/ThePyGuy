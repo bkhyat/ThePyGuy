{
 "cells": [
  {
   "cell_type": "code",
   "execution_count": null,
   "metadata": {},
   "outputs": [],
   "source": [
    "# Arithmetic Operators\n",
    "a = 50\n",
    "b = 15      \n",
    "a + b       # 50+15 = 65 \n",
    "a - b       # 50-15 = 35 \n",
    "a * b       # 50*15 = 750 \n",
    "a / b       # 50/15 = 3.3333333333333335\n",
    "a % b       # Remainder of 50/15 = 5\n",
    "a // b      # 50/15 discarding fractional part = 3\n",
    "a ** (b/5)  # 50^(15/5) = 50^3 = 50*50*50 = 125000.0"
   ]
  },
  {
   "cell_type": "code",
   "execution_count": null,
   "metadata": {},
   "outputs": [],
   "source": [
    "# Comparision Operators\n",
    "a = 10\n",
    "b = 5\n",
    "a == b  # 10 equals to 5 ?               False\n",
    "a != b  # 10 is not equal to 5?          True\n",
    "a > b   # 10 greater than 5?             True\n",
    "a < b   # 10 less than 5?                False\n",
    "a >= b  # 10 greater than or equal to 5? True\n",
    "a <= b  # 10 less than or equal to 5?    False"
   ]
  },
  {
   "cell_type": "code",
   "execution_count": null,
   "metadata": {},
   "outputs": [],
   "source": [
    "# Bitwise Operators\n",
    "x = 0B101010\n",
    "y = 0B110101\n",
    "bin(x & y)       #100000\n",
    "bin(x | y)       #111111\n",
    "bin(x ^ y)       #11111\n",
    "bin(~x)          #010101\n",
    "bin(x>>y)        #0\n",
    "bin(x<<y)        #10101000000000000000000000000000000000000000000000000000000"
   ]
  },
  {
   "cell_type": "code",
   "execution_count": null,
   "metadata": {},
   "outputs": [],
   "source": [
    "# Logical Operators\n",
    "x = 5\n",
    "y = 10\n",
    "x>y and y<0 #False\n",
    "x>y or x<y  #True\n",
    "not (x>y)   #True"
   ]
  },
  {
   "cell_type": "code",
   "execution_count": null,
   "metadata": {},
   "outputs": [],
   "source": [
    "#Identity Operator\n",
    "\n",
    "x = int(10)\n",
    "y = int(15)\n",
    "x is y     #False\n",
    "x is not y #True"
   ]
  },
  {
   "cell_type": "code",
   "execution_count": null,
   "metadata": {},
   "outputs": [],
   "source": [
    "#Membership Operator\n",
    "\n",
    "x = \"ThePyGuy\"\n",
    "y = \"Py\"\n",
    "y in x     #True\n",
    "y not in x #False"
   ]
  }
 ],
 "metadata": {
  "kernelspec": {
   "display_name": "Python 3",
   "language": "python",
   "name": "python3"
  },
  "language_info": {
   "codemirror_mode": {
    "name": "ipython",
    "version": 3
   },
   "file_extension": ".py",
   "mimetype": "text/x-python",
   "name": "python",
   "nbconvert_exporter": "python",
   "pygments_lexer": "ipython3",
   "version": "3.7.5"
  }
 },
 "nbformat": 4,
 "nbformat_minor": 4
}
